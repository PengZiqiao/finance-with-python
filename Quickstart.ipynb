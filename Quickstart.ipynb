{
 "cells": [
  {
   "cell_type": "markdown",
   "metadata": {},
   "source": [
    "### 安装"
   ]
  },
  {
   "cell_type": "code",
   "execution_count": 1,
   "metadata": {},
   "outputs": [
    {
     "name": "stdout",
     "output_type": "stream",
     "text": [
      "Looking in indexes: http://mirrors.aliyun.com/pypi/simple/\n",
      "Collecting backtrader\n",
      "  Downloading http://mirrors.aliyun.com/pypi/packages/1a/bf/78aadd993e2719d6764603465fde163ba6ec15cf0e81f13e39ca13451348/backtrader-1.9.76.123-py2.py3-none-any.whl (410 kB)\n",
      "\u001b[K     |████████████████████████████████| 410 kB 2.6 MB/s eta 0:00:01\n",
      "\u001b[?25hInstalling collected packages: backtrader\n",
      "Successfully installed backtrader-1.9.76.123\n"
     ]
    }
   ],
   "source": [
    "!pip install backtrader"
   ]
  },
  {
   "cell_type": "markdown",
   "metadata": {},
   "source": [
    "### 引入与实例化"
   ]
  },
  {
   "cell_type": "code",
   "execution_count": 1,
   "metadata": {
    "tags": []
   },
   "outputs": [
    {
     "name": "stdout",
     "output_type": "stream",
     "text": [
      "初始资产价值10000.0\n"
     ]
    }
   ],
   "source": [
    "import backtrader as bt\n",
    "\n",
    "cerebro = bt.Cerebro()\n",
    "\n",
    "print(f'初始资产价值{cerebro.broker.getvalue()}')"
   ]
  },
  {
   "cell_type": "markdown",
   "metadata": {},
   "source": [
    "### 设置现金"
   ]
  },
  {
   "cell_type": "code",
   "execution_count": 2,
   "metadata": {
    "tags": []
   },
   "outputs": [
    {
     "name": "stdout",
     "output_type": "stream",
     "text": [
      "初始资产价值5000\n"
     ]
    }
   ],
   "source": [
    "cerebro.broker.setcash(5000)\n",
    "\n",
    "print(f'初始资产价值{cerebro.broker.getvalue()}')"
   ]
  },
  {
   "cell_type": "markdown",
   "metadata": {},
   "source": [
    "### 添加数据"
   ]
  },
  {
   "cell_type": "code",
   "execution_count": 3,
   "metadata": {},
   "outputs": [
    {
     "data": {
      "text/plain": [
       "<backtrader.feeds.yahoo.YahooFinanceData at 0x7f9c0e8c6c90>"
      ]
     },
     "execution_count": 3,
     "metadata": {},
     "output_type": "execute_result"
    }
   ],
   "source": [
    "from datetime import datetime\n",
    "\n",
    "data = bt.feeds.YahooFinanceData(dataname='^SSE50',\n",
    "                                 fromdate=datetime(2018,7,31),\n",
    "                                 todate=datetime(2020,7,31))\n",
    "\n",
    "cerebro.adddata(data)"
   ]
  },
  {
   "cell_type": "markdown",
   "metadata": {},
   "source": [
    "### 创建交易策略"
   ]
  },
  {
   "cell_type": "code",
   "execution_count": 4,
   "metadata": {},
   "outputs": [
    {
     "data": {
      "text/plain": [
       "0"
      ]
     },
     "execution_count": 4,
     "metadata": {},
     "output_type": "execute_result"
    }
   ],
   "source": [
    "from backtrader.indicators import MovingAverageSimple, CrossOver\n",
    "\n",
    "class TestStrategy(bt.Strategy):\n",
    "        \n",
    "    def __init__(self):\n",
    "        # 10日移动平均线\n",
    "        sma = MovingAverageSimple(period=10)\n",
    "\n",
    "        # 交叉信号\n",
    "        self.crossover = CrossOver(self.datas[0].close, sma, plot=False)\n",
    "        \n",
    "    def next(self):\n",
    "        if not self.position:\n",
    "            # 黄金交叉，买！买！买！\n",
    "            if self.crossover > 0: \n",
    "                self.order = self.buy()\n",
    "                \n",
    "        else:\n",
    "            # 死亡交叉，抛！抛！抛！\n",
    "            if self.crossover < 0:\n",
    "                self.order = self.sell()\n",
    "\n",
    "\n",
    "cerebro.addstrategy(TestStrategy)"
   ]
  },
  {
   "cell_type": "markdown",
   "metadata": {},
   "source": [
    "### 运行并可视化 "
   ]
  },
  {
   "cell_type": "code",
   "execution_count": null,
   "metadata": {
    "tags": []
   },
   "outputs": [],
   "source": [
    "cerebro.run()\n",
    "cerebro.plot(iplot=False)"
   ]
  }
 ],
 "metadata": {
  "kernelspec": {
   "display_name": "Python(finance)",
   "language": "python",
   "name": "finance"
  },
  "language_info": {
   "codemirror_mode": {
    "name": "ipython",
    "version": 3
   },
   "file_extension": ".py",
   "mimetype": "text/x-python",
   "name": "python",
   "nbconvert_exporter": "python",
   "pygments_lexer": "ipython3",
   "version": "3.7.7"
  }
 },
 "nbformat": 4,
 "nbformat_minor": 4
}
